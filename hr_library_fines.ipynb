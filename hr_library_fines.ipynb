{
  "nbformat": 4,
  "nbformat_minor": 0,
  "metadata": {
    "colab": {
      "name": "hr_library_fines.ipynb",
      "provenance": [],
      "authorship_tag": "ABX9TyP+Eay2UkUCqZNZ8MGNt0G6",
      "include_colab_link": true
    },
    "kernelspec": {
      "name": "python3",
      "display_name": "Python 3"
    }
  },
  "cells": [
    {
      "cell_type": "markdown",
      "metadata": {
        "id": "view-in-github",
        "colab_type": "text"
      },
      "source": [
        "<a href=\"https://colab.research.google.com/github/KristineYW/Coding-Challenges/blob/main/hr_library_fines.ipynb\" target=\"_parent\"><img src=\"https://colab.research.google.com/assets/colab-badge.svg\" alt=\"Open In Colab\"/></a>"
      ]
    },
    {
      "cell_type": "markdown",
      "metadata": {
        "id": "x9na3C6_UTvR"
      },
      "source": [
        "URL: https://www.hackerrank.com/challenges/library-fine/problem"
      ]
    },
    {
      "cell_type": "markdown",
      "metadata": {
        "id": "r7vSf71UUVfu"
      },
      "source": [
        "Your local library needs your help! Given the expected and actual return dates for a library book, create a program that calculates the fine (if any). The fee structure is as follows:\n",
        "\n",
        "If the book is returned on or before the expected return date, no fine will be charged (i.e.: fine = 0).\n",
        "If the book is returned after the expected return day but still within the same calendar month and year as the expected return date, fine = 15 Hackos x (the number of days late).\n",
        "If the book is returned after the expected return month but still within the same calendar year as the expected return date, the fine = 500 Hackos x (the number of months late).\n",
        "If the book is returned after the calendar year in which it was expected, there is a fixed fine of 10,000 Hackos.\n",
        "Charges are based only on the least precise measure of lateness. For example, whether a book is due January 1, 2017 or December 31, 2017, if it is returned January 1, 2018, that is a year late and the fine would be 10,000 Hackos.\n",
        "\n",
        "Example\n",
        "d1, m1, y1 = 14, 7, 2018\n",
        "d2, m2, y2 = 5, 7, 2018\n",
        "\n",
        "The first values are the return date and the second are the due date. The years are the same and the months are the same. The book is 14-5=9 days late. Return 9*15=135.\n",
        "\n",
        "Function Description\n",
        "\n",
        "Complete the libraryFine function in the editor below.\n",
        "\n",
        "libraryFine has the following parameter(s):\n",
        "\n",
        "d1, m1, y1: returned date day, month and year, each an integer\n",
        "d2, m2, y2: due date day, month and year, each an integer\n",
        "\n",
        "\n",
        "Returns\n",
        "\n",
        "int: the amount of the fine or 0 if there is none\n",
        "\n",
        "\n",
        "Input Format\n",
        "\n",
        "The first line contains  space-separated integers, , denoting the respective , , and  on which the book was returned.\n",
        "The second line contains  space-separated integers, , denoting the respective , , and  on which the book was due to be returned.\n",
        "\n",
        "Constraints\n",
        "1<= d1, d2<= 31\n",
        "1<=m1, m2<=12\n",
        "1<=y1, y2<=3000\n",
        "\n",
        "Sample Input\n",
        "\n",
        "9 6 2015\n",
        "6 6 2015\n",
        "\n",
        "\n",
        "Sample Output\n",
        "\n",
        "45\n",
        "\n",
        "Explanation\n",
        "\n",
        "Given the following dates:\n",
        "Returned: d1=9, m1=6, y1=2015\n",
        "Due: d2=6, m2=6, y2=2015\n",
        "\n",
        "Because y2=y1, we know it is less than a year late.\n",
        "Because m2=m1, we know it's less than a month late.\n",
        "Because d2<d1, we know that it was returned late (but still within the same month and year).\n",
        "\n",
        "Per the library's fee structure, we know that our fine will be 15 Hackos x (# of days late). We then print the result of 15 x (d1-d2) = 15 x (9 - 6) = 45 as our output."
      ]
    },
    {
      "cell_type": "code",
      "metadata": {
        "id": "3H5n_7-0USwR"
      },
      "source": [
        "#!/bin/python3\n",
        "\n",
        "import math\n",
        "import os\n",
        "import random\n",
        "import re\n",
        "import sys\n",
        "\n",
        "# Complete the libraryFine function below.\n",
        "\n",
        "\"\"\"\n",
        "1. If the book is returned on or before the expected return date, no fine will be charged (i.e.: fine = 0).\n",
        "2. If the book is returned after the expected return day but still within the same calendar month and year as the expected return date, fine = 15 Hackos x (the number of days late).\n",
        "3. If the book is returned after the expected return month but still within the same calendar year as the expected return date, the fine = 500 Hackos x (the number of months late).\n",
        "4. If the book is returned after the calendar year in which it was expected, there is a fixed fine of 10,000 Hackos.\n",
        "* Charges are based only on the least precise measure of lateness. For example, whether a book is due January 1, 2017 or December 31, 2017, if it is returned January 1, 2018, that is a year late and the fine would be 10,000 Hackos.\n",
        "\"\"\"\n",
        "\n",
        "def libraryFine(d1, m1, y1, d2, m2, y2):\n",
        "    if y1 > y2:\n",
        "        return 10000\n",
        "    elif y1 == y2 and m1 > m2: \n",
        "        return (500 * (m1 - m2))\n",
        "    elif y1 == y2 and m1 == m2 and d1 > d2: \n",
        "        difference_in_days = d1 - d2\n",
        "        return (15 * (d1 - d2))\n",
        "    else:\n",
        "        return 0\n",
        "\n",
        "if __name__ == '__main__':\n",
        "    fptr = open(os.environ['OUTPUT_PATH'], 'w')\n",
        "\n",
        "    d1M1Y1 = input().split()\n",
        "\n",
        "    d1 = int(d1M1Y1[0])\n",
        "\n",
        "    m1 = int(d1M1Y1[1])\n",
        "\n",
        "    y1 = int(d1M1Y1[2])\n",
        "\n",
        "    d2M2Y2 = input().split()\n",
        "\n",
        "    d2 = int(d2M2Y2[0])\n",
        "\n",
        "    m2 = int(d2M2Y2[1])\n",
        "\n",
        "    y2 = int(d2M2Y2[2])\n",
        "\n",
        "    result = libraryFine(d1, m1, y1, d2, m2, y2)\n",
        "\n",
        "    fptr.write(str(result) + '\\n')\n",
        "\n",
        "    fptr.close()\n"
      ],
      "execution_count": null,
      "outputs": []
    }
  ]
}