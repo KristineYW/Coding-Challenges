{
  "nbformat": 4,
  "nbformat_minor": 0,
  "metadata": {
    "colab": {
      "name": "hr_save_the_prisoner.ipynb",
      "provenance": [],
      "authorship_tag": "ABX9TyOpyJrkQuSS2c0/4ty/oykd",
      "include_colab_link": true
    },
    "kernelspec": {
      "name": "python3",
      "display_name": "Python 3"
    }
  },
  "cells": [
    {
      "cell_type": "markdown",
      "metadata": {
        "id": "view-in-github",
        "colab_type": "text"
      },
      "source": [
        "<a href=\"https://colab.research.google.com/github/KristineYW/Coding-Challenges/blob/main/hr_save_the_prisoner.ipynb\" target=\"_parent\"><img src=\"https://colab.research.google.com/assets/colab-badge.svg\" alt=\"Open In Colab\"/></a>"
      ]
    },
    {
      "cell_type": "markdown",
      "metadata": {
        "id": "Ngwh95iBfGWa"
      },
      "source": [
        "URL: https://www.hackerrank.com/challenges/save-the-prisoner/problem"
      ]
    },
    {
      "cell_type": "markdown",
      "metadata": {
        "id": "8t5_I1NEfIk7"
      },
      "source": [
        "A jail has a number of prisoners and a number of treats to pass out to them. Their jailer decides the fairest way to divide the treats is to seat the prisoners around a circular table in sequentially numbered chairs. A chair number will be drawn from a hat. Beginning with the prisoner in that chair, one candy will be handed to each prisoner sequentially around the table until all have been distributed.\n",
        "\n",
        "The jailer is playing a little joke, though. The last piece of candy looks like all the others, but it tastes awful. Determine the chair number occupied by the prisoner who will receive that candy.\n",
        "\n",
        "Example\n",
        "\n",
        "\n",
        "\n",
        "\n",
        "There are  prisoners,  pieces of candy and distribution starts at chair . The prisoners arrange themselves in seats numbered  to . Prisoners receive candy at positions . The prisoner to be warned sits in chair number .\n",
        "\n",
        "Function Description\n",
        "\n",
        "Complete the saveThePrisoner function in the editor below. It should return an integer representing the chair number of the prisoner to warn.\n",
        "\n",
        "saveThePrisoner has the following parameter(s):\n",
        "\n",
        "int n: the number of prisoners\n",
        "int m: the number of sweets\n",
        "int s: the chair number to begin passing out sweets from\n",
        "Returns\n",
        "\n",
        "int: the chair number of the prisoner to warn\n",
        "Input Format\n",
        "\n",
        "The first line contains an integer, , the number of test cases.\n",
        "The next  lines each contain  space-separated integers:\n",
        "\n",
        ": the number of prisoners\n",
        ": the number of sweets\n",
        ": the chair number to start passing out treats at\n",
        "Constraints\n",
        "\n",
        "Sample Input 0\n",
        "\n",
        "2\n",
        "5 2 1\n",
        "5 2 2\n",
        "Sample Output 0\n",
        "\n",
        "2\n",
        "3\n",
        "Explanation 0\n",
        "\n",
        "In the first query, there are  prisoners and  sweets. Distribution starts at seat number . Prisoners in seats numbered  and  get sweets. Warn prisoner .\n",
        "\n",
        "In the second query, distribution starts at seat  so prisoners in seats  and  get sweets. Warn prisoner .\n",
        "\n",
        "Sample Input 1\n",
        "\n",
        "2\n",
        "7 19 2\n",
        "3 7 3\n",
        "Sample Output 1\n",
        "\n",
        "6\n",
        "3\n",
        "Explanation 1\n",
        "\n",
        "In the first test case, there are  prisoners,  sweets and they are passed out starting at chair . The candies go all around twice and there are  more candies passed to each prisoner from seat  to seat .\n",
        "\n",
        "In the second test case, there are  prisoners,  candies and they are passed out starting at seat . They go around twice, and there is one more to pass out to the prisoner at seat ."
      ]
    },
    {
      "cell_type": "code",
      "metadata": {
        "id": "1tnLFhCufC_i"
      },
      "source": [
        "#!/bin/python3\n",
        "\n",
        "import math\n",
        "import os\n",
        "import random\n",
        "import re\n",
        "import sys\n",
        "\n",
        "# Complete the saveThePrisoner function below.\n",
        "def saveThePrisoner(n, m, s):\n",
        "    # order = []\n",
        "    # for i in range(s,n+1):\n",
        "    #     order.append(i)\n",
        "    # if m < len(order):\n",
        "    #     return (order[m-1])\n",
        "    \n",
        "    # elif m >= len(order):\n",
        "    #     # new_order = order.copy()\n",
        "    #     while len(order) <= m:\n",
        "    #         for i in range(1,n+1):\n",
        "    #             order.append(i)\n",
        "    #     return (order[m-1])\n",
        "    if((m + (s - 1)) % n == 0):\n",
        "        return(n)\n",
        "    else:\n",
        "        return((m + (s - 1)) % n)\n",
        "    \n",
        "\n",
        "if __name__ == '__main__':\n",
        "    fptr = open(os.environ['OUTPUT_PATH'], 'w')\n",
        "\n",
        "    t = int(input())\n",
        "\n",
        "    for t_itr in range(t):\n",
        "        nms = input().split()\n",
        "\n",
        "        n = int(nms[0])\n",
        "\n",
        "        m = int(nms[1])\n",
        "\n",
        "        s = int(nms[2])\n",
        "\n",
        "        result = saveThePrisoner(n, m, s)\n",
        "\n",
        "        fptr.write(str(result) + '\\n')\n",
        "\n",
        "    fptr.close()\n"
      ],
      "execution_count": null,
      "outputs": []
    }
  ]
}