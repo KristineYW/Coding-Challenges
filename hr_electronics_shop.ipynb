{
  "nbformat": 4,
  "nbformat_minor": 0,
  "metadata": {
    "colab": {
      "name": "hr_electronics_shop",
      "provenance": [],
      "authorship_tag": "ABX9TyMbv9A1wspEDqv6okzwgcPc",
      "include_colab_link": true
    },
    "kernelspec": {
      "name": "python3",
      "display_name": "Python 3"
    }
  },
  "cells": [
    {
      "cell_type": "markdown",
      "metadata": {
        "id": "view-in-github",
        "colab_type": "text"
      },
      "source": [
        "<a href=\"https://colab.research.google.com/github/KristineYW/Coding-Challenges/blob/main/hr_electronics_shop.ipynb\" target=\"_parent\"><img src=\"https://colab.research.google.com/assets/colab-badge.svg\" alt=\"Open In Colab\"/></a>"
      ]
    },
    {
      "cell_type": "markdown",
      "metadata": {
        "id": "uskXDRxYLjL4"
      },
      "source": [
        "URL: https://www.hackerrank.com/challenges/electronics-shop/problem"
      ]
    },
    {
      "cell_type": "markdown",
      "metadata": {
        "id": "xheQTShpLNz5"
      },
      "source": [
        "A person wants to determine the most expensive computer keyboard and USB drive that can be purchased with a give budget. Given price lists for keyboards and USB drives and a budget, find the cost to buy them. If it is not possible to buy both items, return .\n",
        "\n",
        "####Example\n",
        "b = 60\n",
        "keyboards = [40,50,60]\n",
        "drives = [5,8,12]\n",
        "\n",
        "\n",
        "The person can buy a 40 keyboard and a 12 usb = 52, or a 50 keyboard and a 8 usb = 58. Choose the latter as the more expensive option and return 58.\n",
        "\n",
        "####Function Description\n",
        "Complete the getMoneySpent function in the editor below.\n",
        "\n",
        "getMoneySpent has the following parameter(s):\n",
        "\n",
        "int keyboards[n]: the keyboard prices\n",
        "int drives[m]: the drive prices\n",
        "int b: the budget\n",
        "\n",
        "####Returns\n",
        "int: the maximum that can be spent, or -1 if it is not possible to buy both items\n",
        "\n",
        "\n",
        "####Input Format\n",
        "The first line contains three space-separated integers b, n, and m, the budget, the number of keyboard models and the number of USB drive models.\n",
        "The second line contains n space-separated integers keyboards[i], the prices of each keyboard model.\n",
        "The third line contains m space-separated integers drives, the prices of the USB drives.\n",
        "\n",
        "####Constraints\n",
        "1 < n, m < 1000\n",
        "1 < b < 10^6\n",
        "The price of each item is in the inclusive range [1, 10^6].\n",
        "\n",
        "\n",
        "####Sample Input 0\n",
        "\n",
        "10 2 3\n",
        "3 1\n",
        "5 2 8\n",
        "\n",
        "####Sample Output 0\n",
        "\n",
        "9\n",
        "\n",
        "####Explanation 0\n",
        "\n",
        "Buy the  keyboard and the  USB drive for a total cost of .\n",
        "\n",
        "####Sample Input 1\n",
        "\n",
        "5 1 1\n",
        "4\n",
        "5\n",
        "\n",
        "####Sample Output 1\n",
        "\n",
        "-1\n",
        "\n",
        "####Explanation 1\n",
        "\n",
        "There is no way to buy one keyboard and one USB drive because 4 + 5 > 5, so return -1."
      ]
    },
    {
      "cell_type": "code",
      "metadata": {
        "id": "rPc-5VIBLI61"
      },
      "source": [
        "#!/bin/python3\n",
        "\n",
        "import os\n",
        "import sys\n",
        "\n",
        "#\n",
        "# Complete the getMoneySpent function below.\n",
        "\n",
        "def getMoneySpent(keyboards, drives, b):\n",
        "    totals = [-1]\n",
        "    for x, y in [(x,y) for x in keyboards for y in drives]:\n",
        "        if x + y <= b:\n",
        "            totals.append(x + y)\n",
        "    return sorted(totals)[-1]\n",
        "\n",
        "\n",
        "if __name__ == '__main__':\n",
        "    fptr = open(os.environ['OUTPUT_PATH'], 'w')\n",
        "\n",
        "    bnm = input().split()\n",
        "\n",
        "    b = int(bnm[0])\n",
        "\n",
        "    n = int(bnm[1])\n",
        "\n",
        "    m = int(bnm[2])\n",
        "\n",
        "    keyboards = list(map(int, input().rstrip().split()))\n",
        "\n",
        "    drives = list(map(int, input().rstrip().split()))\n",
        "\n",
        "    #\n",
        "    # The maximum amount of money she can spend on a keyboard and USB drive, or -1 if she can't purchase both items\n",
        "    #\n",
        "\n",
        "    moneySpent = getMoneySpent(keyboards, drives, b)\n",
        "\n",
        "    fptr.write(str(moneySpent) + '\\n')\n",
        "\n",
        "    fptr.close()\n"
      ],
      "execution_count": null,
      "outputs": []
    }
  ]
}