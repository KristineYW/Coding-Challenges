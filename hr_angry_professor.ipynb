{
  "nbformat": 4,
  "nbformat_minor": 0,
  "metadata": {
    "colab": {
      "name": "hr_angry_professor.ipynb",
      "provenance": [],
      "authorship_tag": "ABX9TyMMgNXmoTAOpapsOM3JLk1Q",
      "include_colab_link": true
    },
    "kernelspec": {
      "name": "python3",
      "display_name": "Python 3"
    }
  },
  "cells": [
    {
      "cell_type": "markdown",
      "metadata": {
        "id": "view-in-github",
        "colab_type": "text"
      },
      "source": [
        "<a href=\"https://colab.research.google.com/github/KristineYW/Coding-Challenges/blob/main/hr_angry_professor.ipynb\" target=\"_parent\"><img src=\"https://colab.research.google.com/assets/colab-badge.svg\" alt=\"Open In Colab\"/></a>"
      ]
    },
    {
      "cell_type": "markdown",
      "metadata": {
        "id": "n1fx4jv8jzAS"
      },
      "source": [
        "URL: https://www.hackerrank.com/challenges/angry-professor/problem"
      ]
    },
    {
      "cell_type": "markdown",
      "metadata": {
        "id": "l9H3_MRwj0Ym"
      },
      "source": [
        "A Discrete Mathematics professor has a class of students. Frustrated with their lack of discipline, the professor decides to cancel class if fewer than some number of students are present when class starts. Arrival times go from on time () to arrived late ().\n",
        "\n",
        "Given the arrival time of each student and a threshhold number of attendees, determine if the class is cancelled.\n",
        "\n",
        "Example\n",
        "\n",
        "\n",
        "\n",
        "\n",
        "The first  students arrived on. The last  were late. The threshold is  students, so class will go on. Return YES.\n",
        "\n",
        "Note: Non-positive arrival times () indicate the student arrived early or on time; positive arrival times () indicate the student arrived  minutes late.\n",
        "\n",
        "Function Description\n",
        "\n",
        "Complete the angryProfessor function in the editor below. It must return YES if class is cancelled, or NO otherwise.\n",
        "\n",
        "angryProfessor has the following parameter(s):\n",
        "\n",
        "int k: the threshold number of students\n",
        "int a[n]: the arrival times of the  students\n",
        "Returns\n",
        "\n",
        "string: either YES or NO\n",
        "Input Format\n",
        "\n",
        "The first line of input contains , the number of test cases.\n",
        "\n",
        "Each test case consists of two lines.\n",
        "\n",
        "The first line has two space-separated integers,  and , the number of students (size of ) and the cancellation threshold.\n",
        "The second line contains  space-separated integers () that describe the arrival times for each student.\n",
        "\n",
        "Constraints\n",
        "\n",
        "Sample Input\n",
        "\n",
        "2\n",
        "4 3\n",
        "-1 -3 4 2\n",
        "4 2\n",
        "0 -1 2 1\n",
        "Sample Output\n",
        "\n",
        "YES\n",
        "NO\n",
        "Explanation\n",
        "\n",
        "For the first test case, . The professor wants at least 3 students in attendance, but only 2 have arrived on time ( -1 and -3 ) so the class is cancelled.\n",
        "\n",
        "For the second test case, . The professor wants at least 2 students in attendance, and there are 3 who arrived on time ( -1, 0 and 1). The class is not cancelled."
      ]
    },
    {
      "cell_type": "code",
      "metadata": {
        "id": "l7hyhKBnjxWy"
      },
      "source": [
        "#!/bin/python3\n",
        "\n",
        "import math\n",
        "import os\n",
        "import random\n",
        "import re\n",
        "import sys\n",
        "\n",
        "# Complete the angryProfessor function below.\n",
        "\n",
        "# We need to sort the student times.\n",
        "# Once the times are sorted, then we can easily determine whether \"k\" has been met by checking the value at index [k-1] to see if it is at or below 0 to know if the threshold has been met. \n",
        "\n",
        "def angryProfessor(k, a):\n",
        "    \n",
        "    a.sort()\n",
        "    if a[k-1] <= 0:\n",
        "        return 'NO'\n",
        "    else:\n",
        "        return 'YES'\n",
        "\n",
        "if __name__ == '__main__':\n",
        "    fptr = open(os.environ['OUTPUT_PATH'], 'w')\n",
        "\n",
        "    t = int(input())\n",
        "\n",
        "    for t_itr in range(t):\n",
        "        nk = input().split()\n",
        "\n",
        "        n = int(nk[0])\n",
        "\n",
        "        k = int(nk[1])\n",
        "\n",
        "        a = list(map(int, input().rstrip().split()))\n",
        "\n",
        "        result = angryProfessor(k, a)\n",
        "\n",
        "        fptr.write(result + '\\n')\n",
        "\n",
        "    fptr.close()\n"
      ],
      "execution_count": null,
      "outputs": []
    }
  ]
}