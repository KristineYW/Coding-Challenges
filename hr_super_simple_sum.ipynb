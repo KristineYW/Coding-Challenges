{
  "nbformat": 4,
  "nbformat_minor": 0,
  "metadata": {
    "colab": {
      "name": "hr super simple sum.ipynb",
      "provenance": [],
      "authorship_tag": "ABX9TyP/19AM5Mtyt8ETO4XLAIz3",
      "include_colab_link": true
    },
    "kernelspec": {
      "name": "python3",
      "display_name": "Python 3"
    }
  },
  "cells": [
    {
      "cell_type": "markdown",
      "metadata": {
        "id": "view-in-github",
        "colab_type": "text"
      },
      "source": [
        "<a href=\"https://colab.research.google.com/github/KristineYW/Coding-Challenges/blob/main/hr_super_simple_sum.ipynb\" target=\"_parent\"><img src=\"https://colab.research.google.com/assets/colab-badge.svg\" alt=\"Open In Colab\"/></a>"
      ]
    },
    {
      "cell_type": "markdown",
      "metadata": {
        "id": "ihWTwCbiv0b2"
      },
      "source": [
        "Given an array of integers, find the sum of its elements.\n",
        "\n",
        "For example, if the array , , so return .\n",
        "\n",
        "Function Description\n",
        "\n",
        "Complete the simpleArraySum function in the editor below. It must return the sum of the array elements as an integer.\n",
        "\n",
        "simpleArraySum has the following parameter(s):\n",
        "\n",
        "ar: an array of integers\n",
        "Input Format\n",
        "\n",
        "The first line contains an integer, , denoting the size of the array.\n",
        "The second line contains  space-separated integers representing the array's elements.\n",
        "\n",
        "Constraints\n",
        "\n",
        "\n",
        "Output Format\n",
        "\n",
        "Print the sum of the array's elements as a single integer.\n",
        "\n",
        "Sample Input\n",
        "\n",
        "6\n",
        "1 2 3 4 10 11\n",
        "Sample Output\n",
        "\n",
        "31\n",
        "Explanation\n",
        "\n",
        "We print the sum of the array's elements: 1 + 2 + 3 + 4 + 10 + 11 = 31"
      ]
    },
    {
      "cell_type": "code",
      "metadata": {
        "id": "ylxs9L6cvxFc"
      },
      "source": [
        "#!/bin/python3\n",
        "\n",
        "import os\n",
        "import sys\n",
        "\n",
        "#\n",
        "# Complete the simpleArraySum function below.\n",
        "#\n",
        "def simpleArraySum(ar):\n",
        "    #\n",
        "    return sum(ar)\n",
        "    #"
      ],
      "execution_count": 1,
      "outputs": []
    }
  ]
}