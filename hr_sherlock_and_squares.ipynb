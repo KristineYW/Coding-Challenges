{
  "nbformat": 4,
  "nbformat_minor": 0,
  "metadata": {
    "colab": {
      "name": "hr_sherlock_and_squares.ipynb",
      "provenance": [],
      "authorship_tag": "ABX9TyOdPDkBhcwfsWhlWpJEOPpX",
      "include_colab_link": true
    },
    "kernelspec": {
      "name": "python3",
      "display_name": "Python 3"
    }
  },
  "cells": [
    {
      "cell_type": "markdown",
      "metadata": {
        "id": "view-in-github",
        "colab_type": "text"
      },
      "source": [
        "<a href=\"https://colab.research.google.com/github/KristineYW/Coding-Challenges/blob/main/hr_sherlock_and_squares.ipynb\" target=\"_parent\"><img src=\"https://colab.research.google.com/assets/colab-badge.svg\" alt=\"Open In Colab\"/></a>"
      ]
    },
    {
      "cell_type": "markdown",
      "metadata": {
        "id": "ShfeNDDvdj_v"
      },
      "source": [
        "URL: https://www.hackerrank.com/challenges/sherlock-and-squares/problem"
      ]
    },
    {
      "cell_type": "markdown",
      "metadata": {
        "id": "-n3ZJznrdlz_"
      },
      "source": [
        "Watson likes to challenge Sherlock's math ability. He will provide a starting and ending value that describe a range of integers, inclusive of the endpoints. Sherlock must determine the number of square integers within that range.\n",
        "\n",
        "Note: A square integer is an integer which is the square of an integer, e.g. 1,4,9,16,25.\n",
        "\n",
        "Example:\n",
        "\n",
        "a = 24\n",
        "\n",
        "b = 49\n",
        "\n",
        "There are three square integers in the range: 25,36, and 49. Return 3.\n",
        "\n",
        "###Function Description\n",
        "\n",
        "Complete the squares function in the editor below. It should return an integer representing the number of square integers in the inclusive range from  to .\n",
        "\n",
        "squares has the following parameter(s):\n",
        "\n",
        "int a: the lower range boundary\n",
        "\n",
        "int b: the upper range boundary\n",
        "\n",
        "###Returns\n",
        "\n",
        "int: the number of square integers in the range\n",
        "\n",
        "###Input Format\n",
        "\n",
        "The first line contains q, the number of test cases.\n",
        "Each of the next q lines contains two space-separated integers, a and b, the starting and ending integers in the ranges.\n",
        "\n",
        "###Constraints\n",
        "\n",
        "1<= q < = 100\n",
        "1<= a <= b <= 10^9\n",
        "\n",
        "###Sample Input\n",
        "\n",
        "2\n",
        "\n",
        "3 9\n",
        "\n",
        "17 24\n",
        "\n",
        "###Sample Output\n",
        "\n",
        "2\n",
        "\n",
        "0\n",
        "\n",
        "###Explanation\n",
        "\n",
        "Test Case #00: In range [3,9], 4 and 9 are the two square integers.\n",
        "\n",
        "Test Case #01: In range [17,24], there are no square integers."
      ]
    },
    {
      "cell_type": "code",
      "metadata": {
        "id": "Vv1Pl8oRdede"
      },
      "source": [
        "#!/bin/python3\n",
        "\n",
        "import math\n",
        "import os\n",
        "import random\n",
        "import re\n",
        "import sys\n",
        "\n",
        "# I wrote an un-optimized solution first, where the range of numbers to check was between just a - b. However, it didn't pass about half the tests due to a time-out error so I had to find a different, optimized solution. Since the range of the potentially squared numbers is exponentially (literally) larger than that of the square roots of those values, a better solution I thought of was to minimize the range to check by using the floored values of the square roots of a and b. That is the solution provided below. \n",
        "\n",
        "# Complete the squares function below.\n",
        "def squares(a, b):\n",
        "    root_a = math.floor(math.sqrt(a))\n",
        "    root_b = math.floor(math.sqrt(b))\n",
        "    count = 0\n",
        "    for i in range(root_a,root_b+1):\n",
        "        squared = i**2\n",
        "        if squared in range(a,b+1):\n",
        "            count += 1\n",
        "    return count\n",
        "if __name__ == '__main__':\n",
        "    fptr = open(os.environ['OUTPUT_PATH'], 'w')\n",
        "\n",
        "    q = int(input())\n",
        "\n",
        "    for q_itr in range(q):\n",
        "        ab = input().split()\n",
        "\n",
        "        a = int(ab[0])\n",
        "\n",
        "        b = int(ab[1])\n",
        "\n",
        "        result = squares(a, b)\n",
        "\n",
        "        fptr.write(str(result) + '\\n')\n",
        "\n",
        "    fptr.close()\n"
      ],
      "execution_count": null,
      "outputs": []
    }
  ]
}