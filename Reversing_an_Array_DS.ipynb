{
  "nbformat": 4,
  "nbformat_minor": 0,
  "metadata": {
    "colab": {
      "name": "Reversing an Array - DS.ipynb",
      "provenance": [],
      "authorship_tag": "ABX9TyOdpw5SAc29EA1nDKpjH+XU",
      "include_colab_link": true
    },
    "kernelspec": {
      "name": "python3",
      "display_name": "Python 3"
    }
  },
  "cells": [
    {
      "cell_type": "markdown",
      "metadata": {
        "id": "view-in-github",
        "colab_type": "text"
      },
      "source": [
        "<a href=\"https://colab.research.google.com/github/KristineYW/Coding-Challenges/blob/main/Reversing_an_Array_DS.ipynb\" target=\"_parent\"><img src=\"https://colab.research.google.com/assets/colab-badge.svg\" alt=\"Open In Colab\"/></a>"
      ]
    },
    {
      "cell_type": "code",
      "metadata": {
        "id": "6bmzUbXbIwoV"
      },
      "source": [
        "Ar"
      ],
      "execution_count": null,
      "outputs": []
    },
    {
      "cell_type": "markdown",
      "metadata": {
        "id": "Gp0fEpbGI2ri"
      },
      "source": [
        "https://www.hackerrank.com/challenges/arrays-ds/problem\n",
        "\n",
        "An array is a type of data structure that stores elements of the same type in a contiguous block of memory. In an array, , of size , each memory location has some unique index,  (where ), that can be referenced as  or .\n",
        "\n",
        "Reverse an array of integers.\n",
        "\n",
        "Note: If you've already solved our C++ domain's Arrays Introduction challenge, you may want to skip this.\n",
        "\n",
        "Example\n",
        "A = [1,2,3]\n",
        "\n",
        "Return [3,2,1]\n",
        "\n",
        "Function Description\n",
        "\n",
        "Complete the function reverseArray in the editor below.\n",
        "\n",
        "reverseArray has the following parameter(s):\n",
        "\n",
        "int A[n]: the array to reverse\n",
        "Returns\n",
        "\n",
        "int[n]: the reversed array\n",
        "Input Format\n",
        "\n",
        "The first line contains an integer, , the number of integers in .\n",
        "The second line contains  space-separated integers that make up .\n",
        "\n",
        "Constraints\n",
        "\n"
      ]
    },
    {
      "cell_type": "code",
      "metadata": {
        "id": "T_e7J1TZJIGm"
      },
      "source": [
        "#!/bin/python3\n",
        "\n",
        "import math\n",
        "import os\n",
        "import random\n",
        "import re\n",
        "import sys\n",
        "\n",
        "# Complete the reverseArray function below.\n",
        "def reverseArray(a):\n",
        "    return [ele for ele in reversed(a)]\n",
        "        \n",
        "# if __name__ == '__main__':\n",
        "#     fptr = open(os.environ['OUTPUT_PATH'], 'w')\n",
        "\n",
        "#     arr_count = int(input())\n",
        "\n",
        "#     arr = list(map(int, input().rstrip().split()))\n",
        "\n",
        "#     res = reverseArray(arr)\n",
        "\n",
        "#     fptr.write(' '.join(map(str, res)))\n",
        "#     fptr.write('\\n')\n",
        "\n",
        "#     fptr.close()"
      ],
      "execution_count": 3,
      "outputs": []
    }
  ]
}